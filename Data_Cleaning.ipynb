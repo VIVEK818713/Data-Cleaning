{
  "nbformat": 4,
  "nbformat_minor": 0,
  "metadata": {
    "colab": {
      "name": "Data Cleaning.ipynb",
      "provenance": [],
      "collapsed_sections": [
        "9XxJZvqeghNX",
        "FULwzlqgx49J",
        "Gdc1iP5AyG4V",
        "ch1IaCL9xmbA",
        "O8Hc0sihaEsc",
        "Exv0YiMobJAG",
        "RVMkKH6FczYK",
        "ZN9jjqk7jsc7",
        "n-usod4wkd6k"
      ],
      "mount_file_id": "188qTUNo0251kFyQWLMvEGQZ7KcstLR2h",
      "authorship_tag": "ABX9TyPj6T1pBRI9PmsozP7kRXPw",
      "include_colab_link": true
    },
    "kernelspec": {
      "name": "python3",
      "display_name": "Python 3"
    },
    "language_info": {
      "name": "python"
    }
  },
  "cells": [
    {
      "cell_type": "markdown",
      "metadata": {
        "id": "view-in-github",
        "colab_type": "text"
      },
      "source": [
        "<a href=\"https://colab.research.google.com/github/VIVEK818713/Data-Cleaning/blob/main/Data_Cleaning.ipynb\" target=\"_parent\"><img src=\"https://colab.research.google.com/assets/colab-badge.svg\" alt=\"Open In Colab\"/></a>"
      ]
    },
    {
      "cell_type": "markdown",
      "source": [
        "### Data Preprocessing\n",
        "* Data \n",
        "  * text\n",
        "  * Image\n",
        "  * Audio\n",
        "  * Video\n",
        "* Data Preprocessing is a process to convert raw data into meaningful data using different techniques.\n",
        "\n",
        "* Why Data Preprocessing is important?"
      ],
      "metadata": {
        "id": "3ROKH5sVN6l9"
      }
    },
    {
      "cell_type": "code",
      "execution_count": null,
      "metadata": {
        "id": "NLRWY91MNuh_"
      },
      "outputs": [],
      "source": [
        "import pandas as pd\n",
        "import numpy as np\n",
        "import matplotlib.pyplot as plt"
      ]
    },
    {
      "cell_type": "code",
      "source": [
        "df=pd.read_csv('/content/drive/MyDrive/Colab Notebooks/DATA CLEANING/train.csv')\n",
        "df.shape"
      ],
      "metadata": {
        "id": "lZUSPYIBXEb9"
      },
      "execution_count": null,
      "outputs": []
    },
    {
      "cell_type": "markdown",
      "source": [
        "* There are 81 columns but we can not see all\n",
        "* And same for the rows (1460) but we can not see all\n",
        "* so for this we will use pd. set_option()"
      ],
      "metadata": {
        "id": "WLu2cqMPXRms"
      }
    },
    {
      "cell_type": "code",
      "source": [
        "pd.set_option('display.max_columns',None)# for display all columns\n",
        "pd.set_option('display.max_rows',None)# for display all rows"
      ],
      "metadata": {
        "id": "W3jVYvfAXQAV"
      },
      "execution_count": null,
      "outputs": []
    },
    {
      "cell_type": "code",
      "source": [
        "df"
      ],
      "metadata": {
        "id": "EA3Di3jNYCN4"
      },
      "execution_count": null,
      "outputs": []
    },
    {
      "cell_type": "code",
      "source": [
        "#pd.describe_option()  documentation"
      ],
      "metadata": {
        "id": "IA0Ve-CjtsWs"
      },
      "execution_count": null,
      "outputs": []
    },
    {
      "cell_type": "markdown",
      "source": [
        "* Now if you need all information about the dataset then use df.info()"
      ],
      "metadata": {
        "id": "Qnw_cUlJYa07"
      }
    },
    {
      "cell_type": "code",
      "source": [
        "df.info()"
      ],
      "metadata": {
        "id": "DdwFXBN1YJeS"
      },
      "execution_count": null,
      "outputs": []
    },
    {
      "cell_type": "markdown",
      "source": [
        "* Now check how many missing values are there in each feature"
      ],
      "metadata": {
        "id": "xvaCqUVrZG5E"
      }
    },
    {
      "cell_type": "code",
      "source": [
        "df.isnull().sum()"
      ],
      "metadata": {
        "id": "m0_kDRuWYq8P"
      },
      "execution_count": null,
      "outputs": []
    },
    {
      "cell_type": "markdown",
      "source": [
        "* this data is something confusing to understand so lets go for visulaize it by using heatmap"
      ],
      "metadata": {
        "id": "SkJUvM5IZkkC"
      }
    },
    {
      "cell_type": "code",
      "source": [
        "import seaborn as sns"
      ],
      "metadata": {
        "id": "Pwy5hslPZWzO"
      },
      "execution_count": null,
      "outputs": []
    },
    {
      "cell_type": "code",
      "source": [
        "plt.figure(figsize=(15,9))\n",
        "sns.heatmap(df.isnull())"
      ],
      "metadata": {
        "id": "RSaaBGwSZv1J"
      },
      "execution_count": null,
      "outputs": []
    },
    {
      "cell_type": "markdown",
      "source": [
        "* if you observe the heatmap , the white color shows the missing values and we have to clean this\n",
        "* so to remove missing values we use different type of techniques\n",
        "* if you obsreve that where we get True value we get white color and where we have False value the color is black\n",
        "* Now we will calculate %age and try to remove the missing value"
      ],
      "metadata": {
        "id": "SFU6qCUfdNxz"
      }
    },
    {
      "cell_type": "code",
      "source": [
        "null_var=df.isnull().sum()/df.shape[0]*100 \n",
        "# we know shape has columns and rows so we are taking only columns thats why we use 0 in shape\n",
        "null_var"
      ],
      "metadata": {
        "id": "aW0T4Qc7aDbT"
      },
      "execution_count": null,
      "outputs": []
    },
    {
      "cell_type": "markdown",
      "source": [
        "* here we are observing that there are many columns which have missing values\n",
        "* here we will extarct that columns which have more than 20% missing values\n",
        "* you can take your own assumption for the same"
      ],
      "metadata": {
        "id": "sefE9Wi-e9zC"
      }
    },
    {
      "cell_type": "code",
      "source": [
        "df_null_var=null_var[null_var>20].keys() # keys for columns name\n",
        "df_null_var"
      ],
      "metadata": {
        "id": "S4AKdgvQehMV"
      },
      "execution_count": null,
      "outputs": []
    },
    {
      "cell_type": "markdown",
      "source": [
        "* but if you observe that column name LotFrontage has 17 % missing values and it is single column with this %age\n",
        "* so we can change our condition"
      ],
      "metadata": {
        "id": "HeDk4c-9gHQZ"
      }
    },
    {
      "cell_type": "code",
      "source": [
        "df_null_var=null_var[null_var>17].keys() # keys for columns name\n",
        "df_null_var"
      ],
      "metadata": {
        "id": "IrE1B4zZfwba"
      },
      "execution_count": null,
      "outputs": []
    },
    {
      "cell_type": "markdown",
      "source": [
        "# Now drop the columns"
      ],
      "metadata": {
        "id": "9XxJZvqeghNX"
      }
    },
    {
      "cell_type": "code",
      "source": [
        "df_drop_col=df.drop(columns=df_null_var)\n",
        "print(df_drop_col.columns)\n",
        "df_drop_col.shape"
      ],
      "metadata": {
        "id": "-9xHjVhGgbxx"
      },
      "execution_count": null,
      "outputs": []
    },
    {
      "cell_type": "markdown",
      "source": [
        "* now if you want to check that howmuch data is clean\n",
        "* use seaborn, and you will see many of the missing values we have removed"
      ],
      "metadata": {
        "id": "i1WHY40Cp8vQ"
      }
    },
    {
      "cell_type": "code",
      "source": [
        "sns.heatmap(df_drop_col.isnull())"
      ],
      "metadata": {
        "id": "hqFB0oLdgzVU"
      },
      "execution_count": null,
      "outputs": []
    },
    {
      "cell_type": "markdown",
      "source": [
        "* there are some missing values avilable \n",
        "* so we will use another technique for that.\n",
        "* here we can use dropna()"
      ],
      "metadata": {
        "id": "zZnzHH47qkF-"
      }
    },
    {
      "cell_type": "code",
      "source": [
        "df2=df_drop_col.dropna()\n",
        "df2.shape"
      ],
      "metadata": {
        "id": "Y8PgWfVHqKji"
      },
      "execution_count": null,
      "outputs": []
    },
    {
      "cell_type": "markdown",
      "source": [
        "* now once again visulaize your data"
      ],
      "metadata": {
        "id": "AxeSVpgQr-mb"
      }
    },
    {
      "cell_type": "code",
      "source": [
        "sns.heatmap(df2.isnull())"
      ],
      "metadata": {
        "id": "qul0o05MrO88"
      },
      "execution_count": null,
      "outputs": []
    },
    {
      "cell_type": "markdown",
      "source": [
        "* you can observe that there is no missing values in the data set\n",
        "* you can check it "
      ],
      "metadata": {
        "id": "osuSufVusUGi"
      }
    },
    {
      "cell_type": "code",
      "source": [
        "df2.isnull().sum()"
      ],
      "metadata": {
        "id": "0TwtWehxsIhd"
      },
      "execution_count": null,
      "outputs": []
    },
    {
      "cell_type": "code",
      "source": [
        "df2.isnull().sum().sum()"
      ],
      "metadata": {
        "id": "8zj7wOZQshng"
      },
      "execution_count": null,
      "outputs": []
    },
    {
      "cell_type": "markdown",
      "source": [
        "* as we see that we clean our data\n",
        "* did we do right or worng so check it by observe the distribution of data\n",
        "* for this purpose we can use sns.distplot()\n",
        "* you can use matplotlib also or pandas but sns.distpolt is quite good\n",
        "* But remember displot use numeric data so first collect the columns which are int and float data types\n",
        "* so first check which columns has such data types"
      ],
      "metadata": {
        "id": "bTclwTNDu1Ck"
      }
    },
    {
      "cell_type": "code",
      "source": [
        "df2.select_dtypes(include=['int','float']).columns\n"
      ],
      "metadata": {
        "id": "Al1pFyZesqB8"
      },
      "execution_count": null,
      "outputs": []
    },
    {
      "cell_type": "markdown",
      "source": [
        "* so we will take only one column for the understanding of distplot\n",
        "* here we will use first original data frame\n",
        "* and after that we will take clean data frame(drop_na)\n",
        "* we will check the difference"
      ],
      "metadata": {
        "id": "5oiReB7TqR-D"
      }
    },
    {
      "cell_type": "code",
      "source": [
        "sns.distplot(df['MSSubClass'])# original before removing missing values\n",
        "plt.show()"
      ],
      "metadata": {
        "id": "BNtps5DuqPK4"
      },
      "execution_count": null,
      "outputs": []
    },
    {
      "cell_type": "code",
      "source": [
        "sns.distplot(df2['MSSubClass'])#  after removing missing values\n",
        "plt.show()"
      ],
      "metadata": {
        "id": "ko1zCh2mq2iA"
      },
      "execution_count": null,
      "outputs": []
    },
    {
      "cell_type": "markdown",
      "source": [
        "* lets overlap these two graph for understanding"
      ],
      "metadata": {
        "id": "Ztm2X5DHswWN"
      }
    },
    {
      "cell_type": "code",
      "source": [
        "sns.distplot(df['MSSubClass'])\n",
        "sns.distplot(df2['MSSubClass'])\n",
        "plt.show()"
      ],
      "metadata": {
        "id": "a3LQNTgtsnM1"
      },
      "execution_count": null,
      "outputs": []
    },
    {
      "cell_type": "markdown",
      "source": [
        "* but we have around 36 column so now do all distplot \n",
        "* take all numeric columns"
      ],
      "metadata": {
        "id": "PjglKGXgtGQx"
      }
    },
    {
      "cell_type": "code",
      "source": [
        "num_var=['Id','MSSubClass','LotArea','OverallQual', 'OverallCond',\n",
        "         'YearBuilt','YearRemodAdd','MasVnrArea','BsmtFinSF1',\n",
        "         'BsmtFinSF2','BsmtUnfSF','TotalBsmtSF','1stFlrSF','2ndFlrSF',\n",
        "         'LowQualFinSF','GrLivArea','BsmtFullBath','BsmtHalfBath','FullBath',\n",
        "         'HalfBath','BedroomAbvGr','KitchenAbvGr','TotRmsAbvGrd','Fireplaces',\n",
        "         'GarageYrBlt','GarageCars','GarageArea','WoodDeckSF','OpenPorchSF',\n",
        "         'EnclosedPorch','3SsnPorch','ScreenPorch','PoolArea','MiscVal','MoSold','YrSold','SalePrice']\n",
        "plt.figure(figsize=(15,25))\n",
        "for i , var in enumerate(num_var):\n",
        "  plt.subplot(9,5,i+1)\n",
        "  sns.distplot(df[var],bins=20)\n",
        "  sns.distplot(df2[var],bins=20)\n",
        "plt.show()\n"
      ],
      "metadata": {
        "id": "4hqcq22Ks77o"
      },
      "execution_count": null,
      "outputs": []
    },
    {
      "cell_type": "code",
      "source": [
        "len(num_var)"
      ],
      "metadata": {
        "id": "1q9Y6wu8xNqa"
      },
      "execution_count": null,
      "outputs": []
    },
    {
      "cell_type": "markdown",
      "source": [
        "# Filling Missing Values"
      ],
      "metadata": {
        "id": "FULwzlqgx49J"
      }
    },
    {
      "cell_type": "markdown",
      "source": [
        "## get data set from your google drive\n",
        "* Make sure your dataset is in you google drive\n",
        "* Right click on that file (in Google Drive)\n",
        "* click option get link or get shareable link\n",
        "* please copy the link\n",
        "* get the permission as your desired peoples list\n",
        "* please change code **uc?export=download&id=** inplace of file/d/\n",
        "* otherwise it may be produce an error\n",
        "* Now paste in a variable name like data_path in colab"
      ],
      "metadata": {
        "id": "Gdc1iP5AyG4V"
      }
    },
    {
      "cell_type": "code",
      "source": [
        "data_path='https://drive.google.com/file/d/1-4r0z1QMKt9WJ-Xo0T9-4-88i2y-kv9K/view?usp=sharing'     #15dec\n",
        "df=pd.read_csv(data_path)"
      ],
      "metadata": {
        "id": "cb__rL8JuwHb"
      },
      "execution_count": null,
      "outputs": []
    },
    {
      "cell_type": "code",
      "source": [
        "data_path='https://drive.google.com/uc?export=download&id=1-4r0z1QMKt9WJ-Xo0T9-4-88i2y-kv9K'\n",
        "df=pd.read_csv(data_path)"
      ],
      "metadata": {
        "id": "QR8hwaQszyxt"
      },
      "execution_count": null,
      "outputs": []
    },
    {
      "cell_type": "code",
      "source": [
        "df.head()"
      ],
      "metadata": {
        "id": "5DMQ28mv1YqR"
      },
      "execution_count": null,
      "outputs": []
    },
    {
      "cell_type": "markdown",
      "source": [
        "* our motive is now fill the missing values\n",
        "* for this purpose we have to check missing values\n",
        "* as we have done it earlier"
      ],
      "metadata": {
        "id": "xo_A6bdU3rQr"
      }
    },
    {
      "cell_type": "code",
      "source": [
        "df.info()"
      ],
      "metadata": {
        "id": "gCdznjdV2zcD"
      },
      "execution_count": null,
      "outputs": []
    },
    {
      "cell_type": "code",
      "source": [
        "df.isnull().sum()"
      ],
      "metadata": {
        "id": "xUMXJxBp34Nd"
      },
      "execution_count": null,
      "outputs": []
    },
    {
      "cell_type": "markdown",
      "source": [
        "* But there are many rows and columns and you want to see all"
      ],
      "metadata": {
        "id": "xZJDWmIE4PUN"
      }
    },
    {
      "cell_type": "code",
      "source": [
        "pd.set_option('display.max_columns',None)\n",
        "pd.set_option('display.max_rows',None)"
      ],
      "metadata": {
        "id": "ntSAdh3q4HKL"
      },
      "execution_count": null,
      "outputs": []
    },
    {
      "cell_type": "code",
      "source": [
        "df.head()"
      ],
      "metadata": {
        "id": "WCnE1aAe4wht"
      },
      "execution_count": null,
      "outputs": []
    },
    {
      "cell_type": "code",
      "source": [
        "df.shape"
      ],
      "metadata": {
        "id": "GFKrNsMA4zdK"
      },
      "execution_count": null,
      "outputs": []
    },
    {
      "cell_type": "markdown",
      "source": [
        "* As we drop that columns which have 20 or more than 20% missing values in previous\n",
        "* we will apply same as here\n"
      ],
      "metadata": {
        "id": "rhJ6p-J648xB"
      }
    },
    {
      "cell_type": "code",
      "source": [
        "null_var=df.isnull().sum()/df.shape[0]*100 \n",
        "# we know shape has columns and rows so we are taking only columns thats why we use 0 in shape\n",
        "null_var"
      ],
      "metadata": {
        "id": "ntbW6aeu42Hz"
      },
      "execution_count": null,
      "outputs": []
    },
    {
      "cell_type": "code",
      "source": [
        "df_null_var=null_var[null_var>20].keys() # keys for columns name\n",
        "df_null_var"
      ],
      "metadata": {
        "id": "v75p9SxY5Z1H"
      },
      "execution_count": null,
      "outputs": []
    },
    {
      "cell_type": "markdown",
      "source": [
        "* Now drop these columns first"
      ],
      "metadata": {
        "id": "z51nDoBA5uxd"
      }
    },
    {
      "cell_type": "code",
      "source": [
        "df_drop_col=df.drop(columns=df_null_var)\n",
        "df_drop_col.shape"
      ],
      "metadata": {
        "id": "Yf_-_FwT5oBU"
      },
      "execution_count": null,
      "outputs": []
    },
    {
      "cell_type": "markdown",
      "source": [
        "* Now focus on Numeric data"
      ],
      "metadata": {
        "id": "0CTJyNbw6FbN"
      }
    },
    {
      "cell_type": "code",
      "source": [
        "df_num_var=df_drop_col.select_dtypes(include=['int','float'])\n",
        "df_num_var.head()"
      ],
      "metadata": {
        "id": "OeOgPmlB552D"
      },
      "execution_count": null,
      "outputs": []
    },
    {
      "cell_type": "markdown",
      "source": [
        "* Now plot Haetmap"
      ],
      "metadata": {
        "id": "bAITBWKx64I-"
      }
    },
    {
      "cell_type": "code",
      "source": [
        "plt.figure(figsize=(15,9))\n",
        "sns.heatmap(df_num_var.isnull())"
      ],
      "metadata": {
        "id": "wK6878oR6cu3"
      },
      "execution_count": null,
      "outputs": []
    },
    {
      "cell_type": "markdown",
      "source": [
        "* if we observe the heatmap then there are some variable which have missing values\n",
        "* so we have to work on them now we are not going to drop them\n",
        "* we will fill the missing value"
      ],
      "metadata": {
        "id": "dWLyf4nc9Rqv"
      }
    },
    {
      "cell_type": "code",
      "source": [
        "df_num_var.isnull().sum()"
      ],
      "metadata": {
        "id": "y9Bu-Y8W7IGk"
      },
      "execution_count": null,
      "outputs": []
    },
    {
      "cell_type": "markdown",
      "source": [
        "* if you want to know how many variable are there with greater than 0 missing value\n"
      ],
      "metadata": {
        "id": "2tIUm_RG-VY8"
      }
    },
    {
      "cell_type": "code",
      "source": [
        "df_miss_num=[var for var in df_num_var.columns if df_num_var[var].isnull().sum()>0]\n",
        "df_miss_num"
      ],
      "metadata": {
        "id": "STHumfwi97CT"
      },
      "execution_count": null,
      "outputs": []
    },
    {
      "cell_type": "markdown",
      "source": [
        "* Before filling missing values lets check the distribution of data"
      ],
      "metadata": {
        "id": "03EeDJJBRiom"
      }
    },
    {
      "cell_type": "code",
      "source": [
        "plt.figure(figsize=(5,5))\n",
        "sns.set()\n",
        "for i,var in enumerate(df_miss_num):\n",
        "  plt.subplot(2,2,i+1)\n",
        "  sns.distplot(df_num_var[var],bins=20,kde_kws={'linewidth':5,'color':'r'})\n",
        "plt.show()"
      ],
      "metadata": {
        "id": "1XzB6SWs-15y"
      },
      "execution_count": null,
      "outputs": []
    },
    {
      "cell_type": "markdown",
      "source": [
        "* Now lets try fill missing values first with mean"
      ],
      "metadata": {
        "id": "19BDO9l4Ujk0"
      }
    },
    {
      "cell_type": "code",
      "source": [
        "df_num_fill_mean=df_num_var.fillna(df_num_var.mean())\n",
        "df_num_fill_mean.isnull().sum().sum()"
      ],
      "metadata": {
        "id": "1ytngQCxTMD_"
      },
      "execution_count": null,
      "outputs": []
    },
    {
      "cell_type": "markdown",
      "source": [
        "* lets check the distribution plot after imputing the mean value"
      ],
      "metadata": {
        "id": "zIjo-2Q9Vbu2"
      }
    },
    {
      "cell_type": "code",
      "source": [
        "plt.figure(figsize=(5,5))\n",
        "sns.set()\n",
        "for i,var in enumerate(df_miss_num):\n",
        "  plt.subplot(2,2,i+1)\n",
        "  sns.distplot(df_num_var[var],bins=20,kde_kws={'linewidth':5,'color':'r'})\n",
        "  sns.distplot(df_num_fill_mean[var],bins=20,kde_kws={'linewidth':3,'color':'g'})\n",
        "plt.show()"
      ],
      "metadata": {
        "id": "Cude1UKDVi5b"
      },
      "execution_count": null,
      "outputs": []
    },
    {
      "cell_type": "markdown",
      "source": [
        "* Now lets try fill missing values first with median"
      ],
      "metadata": {
        "id": "piE0CDcbVScD"
      }
    },
    {
      "cell_type": "code",
      "source": [
        "df_num_fill_median=df_num_var.fillna(df_num_var.median())\n",
        "df_num_fill_median.isnull().sum().sum()"
      ],
      "metadata": {
        "id": "yZ2LWuNlU_y0"
      },
      "execution_count": null,
      "outputs": []
    },
    {
      "cell_type": "markdown",
      "source": [
        "* now plot Data distribution after filling missing values using median"
      ],
      "metadata": {
        "id": "dKnq_LhJWj9r"
      }
    },
    {
      "cell_type": "code",
      "source": [
        "plt.figure(figsize=(5,5))\n",
        "sns.set()\n",
        "for i,var in enumerate(df_miss_num):\n",
        "  plt.subplot(2,2,i+1)\n",
        "  sns.distplot(df_num_var[var],bins=20,kde_kws={'linewidth':5,'color':'r'})\n",
        "  sns.distplot(df_num_fill_median[var],bins=20,kde_kws={'linewidth':3,'color':'g'})\n",
        "plt.show()"
      ],
      "metadata": {
        "id": "nTeZoReSVYze"
      },
      "execution_count": null,
      "outputs": []
    },
    {
      "cell_type": "markdown",
      "source": [
        "* lets take 3 together\n",
        "1. original\n",
        "2. with mean \n",
        "3. with median"
      ],
      "metadata": {
        "id": "NCJIuWaNWuqy"
      }
    },
    {
      "cell_type": "code",
      "source": [
        "plt.figure(figsize=(5,5))\n",
        "sns.set()\n",
        "for i,var in enumerate(df_miss_num):\n",
        "  plt.subplot(2,2,i+1)\n",
        "  sns.distplot(df_num_var[var],hist=False,bins=20,kde_kws={'linewidth':5,'color':'r'})\n",
        "  sns.distplot(df_num_fill_mean[var],hist=False,bins=20,kde_kws={'linewidth':3,'color':'g'})\n",
        "  sns.distplot(df_num_fill_median[var],hist=False,bins=20,kde_kws={'linewidth':3,'color':'k'})\n",
        "plt.show()"
      ],
      "metadata": {
        "id": "f9DhkQcBV7RG"
      },
      "execution_count": null,
      "outputs": []
    },
    {
      "cell_type": "markdown",
      "source": [
        "* if you observe the plot there is major changes except first LotFrontage\n",
        "* here you can take mean or median both doing well\n",
        "* but when we should take mean and when to choose median\n",
        "* so you can observe the difference between maen and median when there is outliar in the data set\n",
        "* You can check the outliers with the help of boxplot\n",
        "* Boxplot help very much in outliers case"
      ],
      "metadata": {
        "id": "_xnjQfczXMYX"
      }
    },
    {
      "cell_type": "code",
      "source": [
        "for i,var in enumerate(df_miss_num):\n",
        "  plt.figure(figsize=(10,10))\n",
        "  plt.subplot(3,1,1)\n",
        "  sns.boxplot(df[var])\n",
        "  plt.subplot(3,1,2)\n",
        "  sns.boxplot(df_num_fill_mean[var])\n",
        "  plt.subplot(3,1,3)\n",
        "  sns.boxplot(df_num_fill_median[var])\n",
        "# missing L3"
      ],
      "metadata": {
        "id": "WO5ZFJlyXJZv"
      },
      "execution_count": null,
      "outputs": []
    },
    {
      "cell_type": "markdown",
      "source": [
        "* if you want to concate all three dataset and check the values.."
      ],
      "metadata": {
        "id": "qixOahJHbZYl"
      }
    },
    {
      "cell_type": "code",
      "source": [
        "df_concat=pd.concat([df[df_miss_num],df_num_fill_mean[df_miss_num],df_num_fill_median[df_miss_num]],axis=1)"
      ],
      "metadata": {
        "id": "pK50vn4QaITW"
      },
      "execution_count": null,
      "outputs": []
    },
    {
      "cell_type": "code",
      "source": [
        "df_concat[df_concat.isnull().any(axis=1)]"
      ],
      "metadata": {
        "id": "kB0jOw56cRJ9"
      },
      "execution_count": null,
      "outputs": []
    },
    {
      "cell_type": "markdown",
      "source": [
        "# Numeric Missing Values Imputation By Class\n",
        "* Data missing should be around 5% then we should go for this technique\n",
        "* And missing values in the data frame should be randomly"
      ],
      "metadata": {
        "id": "ch1IaCL9xmbA"
      }
    },
    {
      "cell_type": "code",
      "source": [
        "import pandas as pd\n",
        "import numpy as np\n",
        "import matplotlib.pyplot as plt\n",
        "import seaborn as sns"
      ],
      "metadata": {
        "id": "PCViDyLPc2RP"
      },
      "execution_count": null,
      "outputs": []
    },
    {
      "cell_type": "code",
      "source": [
        "data_path='https://drive.google.com/uc?export=download&id=1-4r0z1QMKt9WJ-Xo0T9-4-88i2y-kv9K'\n",
        "df=pd.read_csv(data_path)"
      ],
      "metadata": {
        "id": "DMWtHeYzxzES"
      },
      "execution_count": null,
      "outputs": []
    },
    {
      "cell_type": "code",
      "source": [
        "df.shape"
      ],
      "metadata": {
        "id": "ZTVcwdEgyHqB"
      },
      "execution_count": null,
      "outputs": []
    },
    {
      "cell_type": "code",
      "source": [
        "pd.set_option('display.max_columns',None)\n",
        "pd.set_option('display.max_rows',None)"
      ],
      "metadata": {
        "id": "UV9Oxi8fyKrd"
      },
      "execution_count": null,
      "outputs": []
    },
    {
      "cell_type": "code",
      "source": [
        "df.head()"
      ],
      "metadata": {
        "id": "fKn21mhkyZAU"
      },
      "execution_count": null,
      "outputs": []
    },
    {
      "cell_type": "code",
      "source": [
        "null_var=df.isnull().sum()/df.shape[0]*100"
      ],
      "metadata": {
        "id": "-_owsLa-ye1M"
      },
      "execution_count": null,
      "outputs": []
    },
    {
      "cell_type": "code",
      "source": [
        "df_null_var=null_var[null_var>20].keys() # keys for columns name\n",
        "df_null_var"
      ],
      "metadata": {
        "id": "oP-GFEHyznyw"
      },
      "execution_count": null,
      "outputs": []
    },
    {
      "cell_type": "code",
      "source": [
        "df_drop_null_col=df.drop(columns=df_null_var)\n",
        "df_drop_null_col.shape"
      ],
      "metadata": {
        "id": "LwmGwm9Dz2Eb"
      },
      "execution_count": null,
      "outputs": []
    },
    {
      "cell_type": "code",
      "source": [
        "df2_num=df_drop_null_col.select_dtypes(include=['int','float'])\n",
        "df2_num.shape"
      ],
      "metadata": {
        "id": "e-W9w0Oc0Px_"
      },
      "execution_count": null,
      "outputs": []
    },
    {
      "cell_type": "markdown",
      "source": [
        "in df2_num columns if any column have greater than 0 missing values\n",
        "* get that columns"
      ],
      "metadata": {
        "id": "UYmR-dcwODU0"
      }
    },
    {
      "cell_type": "code",
      "source": [
        "df2_num_var=[i for i in df2_num.columns if(df2_num[i].isnull().sum()>0)]\n",
        "df2_num_var"
      ],
      "metadata": {
        "id": "H7iXIJ460vxL"
      },
      "execution_count": null,
      "outputs": []
    },
    {
      "cell_type": "markdown",
      "source": [
        "There are 3 numerical columns which have missing values thar are-\n",
        "\n",
        "['LotFrontage', 'MasVnrArea', 'GarageYrBlt']\n"
      ],
      "metadata": {
        "id": "G2vmVuu2Ovy5"
      }
    },
    {
      "cell_type": "code",
      "source": [
        "df.head(1)"
      ],
      "metadata": {
        "id": "B_n7oSoz3hfG"
      },
      "execution_count": null,
      "outputs": []
    },
    {
      "cell_type": "markdown",
      "source": [
        "* when you try for impute value by class you must have domain knowledge\n",
        "* if you dont have domain knowledge then you can not impute the best.\n",
        "* if you check \n",
        "1. 'LotFrontage'-->there are 2 categorical variable namly'LotShape' and 'LotConfig' so we are taking LotCOnfig for imputation\n",
        "2. 'MasVnrArea', -->we are choosing MasVnrType(you can choose ant categorical variable which most suitable)\n",
        "3. 'GarageYrBlt'-->we are choosing GarageType(you can choose any categorical variable which is most suitable)"
      ],
      "metadata": {
        "id": "DL9WxshN27_A"
      }
    },
    {
      "cell_type": "markdown",
      "source": [
        "* Lets understand one by one stepswise"
      ],
      "metadata": {
        "id": "0_-zSIsu4xjx"
      }
    },
    {
      "cell_type": "code",
      "source": [
        "# firstly we are working on 'LotCOnfig' variable\n",
        "# first check the unique value in this column\n",
        "df['LotConfig'].unique()"
      ],
      "metadata": {
        "id": "1Hi983Ve0_RO"
      },
      "execution_count": null,
      "outputs": []
    },
    {
      "cell_type": "markdown",
      "source": [
        "* there are 5 unique value ['Inside', 'FR2', 'Corner', 'CulDSac', 'FR3']\n",
        "* lets build a logic for 'Inside'\n",
        "* after that we will build for all the class values"
      ],
      "metadata": {
        "id": "IwfefKAc5zyY"
      }
    },
    {
      "cell_type": "code",
      "source": [
        "# df.loc[:,'Lotconfig'] ---first reach the 'all rows and Lotconfig Column'\n",
        "# df.loc[:,'Lotconfig']=='Inside'---all the rows which have Inside we will get\n",
        "# this data is from df so use below to see what values we have\n",
        "# df[df.loc[:,'Lotconfig']=='Inside']\n",
        "df[df.loc[:,'LotConfig']=='Inside']"
      ],
      "metadata": {
        "id": "TL2V4qwP5Q-C"
      },
      "execution_count": null,
      "outputs": []
    },
    {
      "cell_type": "markdown",
      "source": [
        "* if you observe now we have data related to LotConfig with inside values "
      ],
      "metadata": {
        "id": "OXsyDcqc7llX"
      }
    },
    {
      "cell_type": "code",
      "source": [
        "# but we need only LotFrontage columns which belong to Lotconfig 'Inside' value\n",
        "df[df.loc[:,'LotConfig']=='Inside']['LotFrontage']"
      ],
      "metadata": {
        "id": "RxjnmZfY7O6H"
      },
      "execution_count": null,
      "outputs": []
    },
    {
      "cell_type": "markdown",
      "source": [
        "* if you observe that there are NaN present so\n",
        "* we have to take mean value of this and impute this mean value \n",
        "* we will use replace() where Nan is there in LotFrontage\n",
        "* here we use replace it will take 2 argument\n",
        "1. np.nan\n",
        "2. df[df.loc[:  ,'LotConfig']=='Inside']['LotFrontage'] \n",
        "* but df[df.loc[:,'LotConfig']=='Inside']['LotFrontage'] we need its mean value so \n",
        "* df[df.loc[:,'LotConfig']=='Inside']['LotFrontage'].mean()"
      ],
      "metadata": {
        "id": "h5ZIc4P_8cBf"
      }
    },
    {
      "cell_type": "code",
      "source": [
        "df[df.loc[:,'LotConfig']=='Inside']['LotFrontage'].replace(np.nan,df[df.loc[:,'LotConfig']=='Inside']['LotFrontage'].mean())"
      ],
      "metadata": {
        "id": "KylycaZV8O0A"
      },
      "execution_count": null,
      "outputs": []
    },
    {
      "cell_type": "markdown",
      "source": [
        "* if you observe that we have impute the mean value with class\n",
        "* but we use only 1 class value \"Inside\" of LotConfig \n",
        "* we have use all rest 4 class values of LotConfig \n",
        "* Lets do it and make a simple logic for all\n",
        "* But before this you should make a copy of dataframe\n",
        "* and you should use dataframe.update () also\n",
        "* observe the code "
      ],
      "metadata": {
        "id": "LGVeUdqB-GoD"
      }
    },
    {
      "cell_type": "code",
      "source": [
        "# make copy of df\n",
        "df_copy=df.copy()\n",
        "for var_class in df['LotConfig'].unique():# apply unique value of LotConfig\n",
        "# use update()\n",
        "  df_copy.update(df[df.loc[:,'LotConfig']=='Inside']['LotFrontage'].replace(np.nan,df[df.loc[:,'LotConfig']=='Inside']['LotFrontage'].mean()))"
      ],
      "metadata": {
        "id": "R5blOkVX9x7K"
      },
      "execution_count": null,
      "outputs": []
    },
    {
      "cell_type": "markdown",
      "source": [
        "* check whether we imputed correct or not"
      ],
      "metadata": {
        "id": "_MfDiR24AQG_"
      }
    },
    {
      "cell_type": "code",
      "source": [
        "df_copy.isnull().sum()"
      ],
      "metadata": {
        "id": "MyY8cGcNAOeE"
      },
      "execution_count": null,
      "outputs": []
    },
    {
      "cell_type": "markdown",
      "source": [
        "* we impute but LotFrontage showing 125 not imputed \n",
        "* lets impute all the missing value\n",
        "* copy above code\n",
        "* where we use 'Inside' use var_class because we are using a for loop"
      ],
      "metadata": {
        "id": "DROjrOBYAa17"
      }
    },
    {
      "cell_type": "code",
      "source": [
        "# make copy of df\n",
        "df_copy=df.copy()\n",
        "for var_class in df['LotConfig'].unique():# apply unique value of LotConfig\n",
        "# use update() and use var_class inplace of 'Inside'\n",
        "  df_copy.update(df[df.loc[:,'LotConfig']==var_class]['LotFrontage'].replace(np.nan,df[df.loc[:,'LotConfig']==var_class]['LotFrontage'].mean()))"
      ],
      "metadata": {
        "id": "RulfyyMgAXU-"
      },
      "execution_count": null,
      "outputs": []
    },
    {
      "cell_type": "code",
      "source": [
        "df_copy.isnull().sum()"
      ],
      "metadata": {
        "id": "LSE6EgQmBBzV"
      },
      "execution_count": null,
      "outputs": []
    },
    {
      "cell_type": "markdown",
      "source": [
        "* Now we have to impute **'LotFrontage', 'MasVnrArea', 'GarageYrBlt'** nan values using **Lotconfig,MasVnrType,GarageType** all classes"
      ],
      "metadata": {
        "id": "fVr7KrIMBPfA"
      }
    },
    {
      "cell_type": "code",
      "source": [
        "\n",
        "# make copy of df\n",
        "df_copy=df.copy()\n",
        "# First create two list for numerical vraiable\n",
        "# And categorical Variable\n",
        "num_vars=['LotFrontage', 'MasVnrArea', 'GarageYrBlt']\n",
        "cat_vars=['LotConfig','MasVnrType','GarageType']\n",
        "# At the same time we need 1 categorical variable and 1 numerical variable\n",
        "# so we will use zip()\n",
        "for num_v , cat_v in zip(num_vars,cat_vars):\n",
        "  for var_class in df[cat_v].unique():# apply unique value of categorical variable\n",
        "# use update() and use var_class inplace of 'Inside'\n",
        "# where we use Lotconfig use cat_v\n",
        "# where we use LotFronage use num_v in below code\n",
        "    #df_copy.update(df[df.loc[:,'LotConfig']==var_class]['LotFrontage'].replace(np.nan,df[df.loc[:,'LotConfig']==var_class]['LotFrontage'].mean()))\n",
        "    df_copy.update(df[df.loc[:,cat_v]==var_class][num_v].replace(np.nan,df[df.loc[:,cat_v]==var_class][num_v].mean()))"
      ],
      "metadata": {
        "id": "4aqAlVM-BEg0"
      },
      "execution_count": null,
      "outputs": []
    },
    {
      "cell_type": "markdown",
      "source": [
        "* now check whether all vaule of numerical variable imputed by classes or not"
      ],
      "metadata": {
        "id": "Du2_QQOaGTqY"
      }
    },
    {
      "cell_type": "code",
      "source": [
        "df_copy[num_vars].isnull().sum()"
      ],
      "metadata": {
        "id": "Pw6kFD7TG37B"
      },
      "execution_count": null,
      "outputs": []
    },
    {
      "cell_type": "markdown",
      "source": [
        "* if you observe only LotFrontage is imputed well\n",
        "* MasVnrArea and GarageYrBlt not imputed all values why?\n",
        "* The reason is it may be that MasVnrArea and GarageYrBlt not imputed beacause 'MasVnrType',and 'GarageType'have NaN value \n",
        "* lets check is it happend with us or not"
      ],
      "metadata": {
        "id": "m6HJyJOUHEb9"
      }
    },
    {
      "cell_type": "code",
      "source": [
        "df_copy['MasVnrType']"
      ],
      "metadata": {
        "id": "hB8ETqeBIpE9"
      },
      "execution_count": null,
      "outputs": []
    },
    {
      "cell_type": "code",
      "source": [
        "df_copy[df_copy[['MasVnrType']].isnull().any(axis=1)]"
      ],
      "metadata": {
        "id": "Zmm-jUNKG_4f"
      },
      "execution_count": null,
      "outputs": []
    },
    {
      "cell_type": "markdown",
      "source": [
        "* so before imputing the value you should check\n",
        "* whether the categorical variable clean or not means there is no missing value\n",
        "* if categorical variable have missing value then you can not get the desired result\n",
        "* so now for the understanding purpose we will choose categorical variable which has no missing value\n",
        "* well we are going to take any categorical variable which has no missing value\n",
        "* Note-- you must have the domain knowledge for this purpose . here we taking variable(Exterior2nd,KitchenQual) just for imputing the value."
      ],
      "metadata": {
        "id": "LOaEWkPJUBQJ"
      }
    },
    {
      "cell_type": "code",
      "source": [
        "\n",
        "df_copy=df.copy()\n",
        "num_vars=['LotFrontage', 'MasVnrArea', 'GarageYrBlt']\n",
        "cat_vars=['LotConfig','Exterior2nd','KitchenQual']\n",
        "\n",
        "for num_v , cat_v in zip(num_vars,cat_vars):\n",
        "  for var_class in df[cat_v].unique():\n",
        "    df_copy.update(df[df.loc[:,cat_v]==var_class][num_v].replace(np.nan,df[df.loc[:,cat_v]==var_class][num_v].mean()))"
      ],
      "metadata": {
        "id": "Bu28EjmdIFQl"
      },
      "execution_count": null,
      "outputs": []
    },
    {
      "cell_type": "code",
      "source": [
        "df_copy[num_vars].isnull().sum()"
      ],
      "metadata": {
        "id": "ivFceFwOV8p6"
      },
      "execution_count": null,
      "outputs": []
    },
    {
      "cell_type": "markdown",
      "source": [
        "# Distribution plot with mean value"
      ],
      "metadata": {
        "id": "O8Hc0sihaEsc"
      }
    },
    {
      "cell_type": "code",
      "source": [
        "plt.figure(figsize=(10,10))\n",
        "sns.set()\n",
        "for i,var in enumerate(num_vars):\n",
        "  plt.subplot(2,2,i+1)\n",
        "  sns.distplot(df[var],bins=20,kde_kws={'linewidth':5,'color':'r'},label=\"Original\")\n",
        "  sns.distplot(df_copy[var],bins=20,kde_kws={'linewidth':3,'color':'g'},label=\"Imputed\")\n",
        "  plt.legend()\n",
        "plt.show()"
      ],
      "metadata": {
        "id": "MIKXr9mEaIYy"
      },
      "execution_count": null,
      "outputs": []
    },
    {
      "cell_type": "markdown",
      "source": [
        "# Distribution plot with median value"
      ],
      "metadata": {
        "id": "Exv0YiMobJAG"
      }
    },
    {
      "cell_type": "code",
      "source": [
        "\n",
        "df_copy_median=df.copy()\n",
        "num_vars=['LotFrontage', 'MasVnrArea', 'GarageYrBlt']\n",
        "cat_vars=['LotConfig','Exterior2nd','KitchenQual']\n",
        "\n",
        "for num_v , cat_v in zip(num_vars,cat_vars):\n",
        "  for var_class in df[cat_v].unique():\n",
        "    df_copy_median.update(df[df.loc[:,cat_v]==var_class][num_v].replace(np.nan,df[df.loc[:,cat_v]==var_class][num_v].median()))"
      ],
      "metadata": {
        "id": "NNRRmZ8MaINL"
      },
      "execution_count": null,
      "outputs": []
    },
    {
      "cell_type": "code",
      "source": [
        "df_copy_median[num_vars].isnull().sum()"
      ],
      "metadata": {
        "id": "dGaFy103byxr"
      },
      "execution_count": null,
      "outputs": []
    },
    {
      "cell_type": "code",
      "source": [
        "plt.figure(figsize=(10,10))\n",
        "sns.set()\n",
        "for i,var in enumerate(num_vars):\n",
        "  plt.subplot(2,2,i+1)\n",
        "  sns.distplot(df[var],bins=20,kde_kws={'linewidth':5,'color':'r'},label=\"Original\")\n",
        "  sns.distplot(df_copy_median[var],bins=20,kde_kws={'linewidth':3,'color':'g'},label=\"Imputed\")\n",
        "  plt.legend()\n",
        "plt.show()"
      ],
      "metadata": {
        "id": "d8xfV_r8bRW9"
      },
      "execution_count": null,
      "outputs": []
    },
    {
      "cell_type": "markdown",
      "source": [
        "# Missing Value Imputation --Categorical Values"
      ],
      "metadata": {
        "id": "RVMkKH6FczYK"
      }
    },
    {
      "cell_type": "code",
      "source": [
        "import pandas as pd\n",
        "import numpy as np\n",
        "import matplotlib.pyplot as plt\n",
        "import seaborn as sns"
      ],
      "metadata": {
        "id": "jjJN3kBQc65d"
      },
      "execution_count": null,
      "outputs": []
    },
    {
      "cell_type": "code",
      "source": [
        "df=pd.read_csv('/content/drive/MyDrive/Colab Notebooks/DATA CLEANING/train.csv')\n",
        "df.shape"
      ],
      "metadata": {
        "id": "z0_J1Am5c6sM"
      },
      "execution_count": null,
      "outputs": []
    },
    {
      "cell_type": "markdown",
      "source": [
        "* As we required only categorical variable so select them"
      ],
      "metadata": {
        "id": "jSQXuk_cdaZV"
      }
    },
    {
      "cell_type": "code",
      "source": [
        "cat_var=df.select_dtypes(include='object')\n",
        "cat_var.head(1)"
      ],
      "metadata": {
        "id": "TrhnyKnWc6pu"
      },
      "execution_count": null,
      "outputs": []
    },
    {
      "cell_type": "code",
      "source": [
        "cat_var_miss_per=cat_var.isnull().mean()*100\n",
        "cat_var_miss_per"
      ],
      "metadata": {
        "id": "-8HP3JOTeLx_"
      },
      "execution_count": null,
      "outputs": []
    },
    {
      "cell_type": "code",
      "source": [
        "drop_col=[i for i in cat_var.columns if cat_var_miss_per[i]>20]\n",
        "drop_col"
      ],
      "metadata": {
        "id": "wU3obuy4eLox"
      },
      "execution_count": null,
      "outputs": []
    },
    {
      "cell_type": "code",
      "source": [
        "cat_var.drop(columns=drop_col,axis=1,inplace=True)\n",
        "cat_var.shape"
      ],
      "metadata": {
        "id": "jXg3REDueLjs"
      },
      "execution_count": null,
      "outputs": []
    },
    {
      "cell_type": "code",
      "source": [
        "isnull_cat_var=cat_var.isnull().mean()*100\n",
        "miss_var=isnull_cat_var[isnull_cat_var>0].keys()\n",
        "miss_var"
      ],
      "metadata": {
        "id": "FBPbIaUxeLfL"
      },
      "execution_count": null,
      "outputs": []
    },
    {
      "cell_type": "code",
      "source": [
        "cat_var['MasVnrType'].fillna('Missing')"
      ],
      "metadata": {
        "id": "xLUO0uuJeLci"
      },
      "execution_count": null,
      "outputs": []
    },
    {
      "cell_type": "code",
      "source": [
        "cat_var['MasVnrType'].mode()"
      ],
      "metadata": {
        "id": "YeF0Eg3EeLZx"
      },
      "execution_count": null,
      "outputs": []
    },
    {
      "cell_type": "code",
      "source": [
        "cat_var['MasVnrType'].value_counts()"
      ],
      "metadata": {
        "id": "KYkQRkECeLXT"
      },
      "execution_count": null,
      "outputs": []
    },
    {
      "cell_type": "code",
      "source": [
        "cat_var['MasVnrType'].fillna(cat_var['MasVnrType'].mode()[0])"
      ],
      "metadata": {
        "id": "TI5hDdcVeLQ9"
      },
      "execution_count": null,
      "outputs": []
    },
    {
      "cell_type": "code",
      "source": [
        "for i in miss_var:\n",
        "  cat_var[i].fillna(cat_var[i].mode()[0],inplace=True)\n",
        "  print(i,\"=\",cat_var[i].mode()[0])"
      ],
      "metadata": {
        "id": "V9BzScIaiPaF"
      },
      "execution_count": null,
      "outputs": []
    },
    {
      "cell_type": "code",
      "source": [
        "cat_var.isnull().sum()"
      ],
      "metadata": {
        "id": "FScPqWQuiy3u"
      },
      "execution_count": null,
      "outputs": []
    },
    {
      "cell_type": "markdown",
      "source": [
        "## Plot "
      ],
      "metadata": {
        "id": "ZN9jjqk7jsc7"
      }
    },
    {
      "cell_type": "code",
      "source": [
        "plt.figure(figsize=(16,9))\n",
        "for i,var in enumerate(miss_var):\n",
        "  plt.subplot(4,3,i+1)\n",
        "  plt.hist(cat_var[var],label=\"imputed\")\n",
        "  plt.hist(df[var].dropna(),label=\"original\")\n",
        "  plt.legend()"
      ],
      "metadata": {
        "id": "omzx7U6jjv-F"
      },
      "execution_count": null,
      "outputs": []
    },
    {
      "cell_type": "markdown",
      "source": [
        "## Update dataframe"
      ],
      "metadata": {
        "id": "n-usod4wkd6k"
      }
    },
    {
      "cell_type": "code",
      "source": [
        "df.update(cat_var)\n",
        "df.drop(columns=drop_col,inplace=True)"
      ],
      "metadata": {
        "id": "rY2xdKh0jv7J"
      },
      "execution_count": null,
      "outputs": []
    },
    {
      "cell_type": "code",
      "source": [
        "df.select_dtypes(include='object').isnull().sum()"
      ],
      "metadata": {
        "id": "nslKZcndk2Np"
      },
      "execution_count": null,
      "outputs": []
    },
    {
      "cell_type": "markdown",
      "source": [
        "# Filling Missing Values using SimpleImputer"
      ],
      "metadata": {
        "id": "R081G2uknIxX"
      }
    },
    {
      "cell_type": "code",
      "source": [
        "import pandas as pd\n",
        "import numpy as np\n",
        "from sklearn.impute import SimpleImputer"
      ],
      "metadata": {
        "id": "RDhJCYvmWBBN"
      },
      "execution_count": null,
      "outputs": []
    },
    {
      "cell_type": "code",
      "source": [
        "train=pd.read_csv('/content/drive/MyDrive/Colab Notebooks/DATA CLEANING/train.csv')\n",
        "test=pd.read_csv('/content/drive/MyDrive/Colab Notebooks/DATA CLEANING/test.csv')\n",
        "print(\"train shape\",train.shape)\n",
        "print(\"train shape\",test.shape)"
      ],
      "metadata": {
        "id": "duIePdZEnt2N"
      },
      "execution_count": null,
      "outputs": []
    },
    {
      "cell_type": "code",
      "source": [
        "X_train=train.drop(columns=\"SalePrice\")# X_train consider as matrix\n",
        "y_train=train[\"SalePrice\"] # y_train consider as vector\n",
        "print(\"X_train shape\",X_train.shape)\n",
        "print(\"y_train shape\",y_train.shape)\n"
      ],
      "metadata": {
        "id": "OUcdIL4VoGPH"
      },
      "execution_count": null,
      "outputs": []
    },
    {
      "cell_type": "code",
      "source": [
        "num_var=X_train.select_dtypes(include=[\"int\",\"float\"]).columns\n",
        "num_var"
      ],
      "metadata": {
        "id": "M2hHXA_0oxXi"
      },
      "execution_count": null,
      "outputs": []
    },
    {
      "cell_type": "code",
      "source": [
        "X_train[num_var].isnull().sum()"
      ],
      "metadata": {
        "id": "wA3cVYfOppeq"
      },
      "execution_count": null,
      "outputs": []
    },
    {
      "cell_type": "code",
      "source": [
        "imputer_mean=SimpleImputer(strategy='mean')\n",
        "# imputer_mean=SimpleImputer(strategy='constant',fill_value=99)"
      ],
      "metadata": {
        "id": "542QNLnSp8uC"
      },
      "execution_count": null,
      "outputs": []
    },
    {
      "cell_type": "code",
      "source": [
        "imputer_mean.fit(X_train[num_var])"
      ],
      "metadata": {
        "id": "6Gq_nKhPq75l"
      },
      "execution_count": null,
      "outputs": []
    },
    {
      "cell_type": "code",
      "source": [
        "imputer_mean.statistics_"
      ],
      "metadata": {
        "id": "N86W2xJSrB2E"
      },
      "execution_count": null,
      "outputs": []
    },
    {
      "cell_type": "markdown",
      "source": [
        "* now we have mean value but this mean value not imputed in our dataset so use transform()"
      ],
      "metadata": {
        "id": "xqtfurdQsUjn"
      }
    },
    {
      "cell_type": "code",
      "source": [
        "imputer_mean.transform(X_train[num_var])"
      ],
      "metadata": {
        "id": "cGJz1prprH6p"
      },
      "execution_count": null,
      "outputs": []
    },
    {
      "cell_type": "markdown",
      "source": [
        "* we give dataframe but sklearn return array\n",
        "* But we can canvert np array to data frame"
      ],
      "metadata": {
        "id": "W-BrpRzDtJ0O"
      }
    },
    {
      "cell_type": "code",
      "source": [
        "X_train[num_var]=imputer_mean.transform(X_train[num_var])\n",
        "# when we impute train data at the same time we have to impute test data\n",
        "test[num_var]=imputer_mean.transform(test[num_var])"
      ],
      "metadata": {
        "id": "eZoAjeIltIN8"
      },
      "execution_count": null,
      "outputs": []
    },
    {
      "cell_type": "code",
      "source": [
        "X_train[num_var].isnull().sum()"
      ],
      "metadata": {
        "id": "mlF-72BXu72S"
      },
      "execution_count": null,
      "outputs": []
    },
    {
      "cell_type": "code",
      "source": [
        "test[num_var].isnull().sum()"
      ],
      "metadata": {
        "id": "baxkM2MIvEVk"
      },
      "execution_count": null,
      "outputs": []
    },
    {
      "cell_type": "markdown",
      "source": [
        "# now fill missing values in categorical variable"
      ],
      "metadata": {
        "id": "qi42rVyivmcu"
      }
    },
    {
      "cell_type": "code",
      "source": [
        "cat_var=X_train.select_dtypes(exclude=[\"int\",\"float\"]).columns\n",
        "cat_var"
      ],
      "metadata": {
        "id": "IZRyV8EMvmER"
      },
      "execution_count": null,
      "outputs": []
    },
    {
      "cell_type": "code",
      "source": [
        "X_train[cat_var].isnull().sum()"
      ],
      "metadata": {
        "id": "z6WEPhLYvMju"
      },
      "execution_count": null,
      "outputs": []
    },
    {
      "cell_type": "code",
      "source": [
        "imputer_mode=SimpleImputer(strategy='most_frequent')\n",
        "# imputer_mean=SimpleImputer(strategy='constant',fill_value=99)\n",
        "imputer_mode"
      ],
      "metadata": {
        "id": "R2P4cflfwACr"
      },
      "execution_count": null,
      "outputs": []
    },
    {
      "cell_type": "code",
      "source": [
        "imputer_mode.fit(X_train[cat_var])"
      ],
      "metadata": {
        "id": "9yBpF0_-wXu-"
      },
      "execution_count": null,
      "outputs": []
    },
    {
      "cell_type": "code",
      "source": [
        "imputer_mode.statistics_"
      ],
      "metadata": {
        "id": "z977KbqUw3Mn"
      },
      "execution_count": null,
      "outputs": []
    },
    {
      "cell_type": "code",
      "source": [
        "X_train[cat_var]=imputer_mode.transform(X_train[cat_var])\n",
        "# when we impute train data at the same time we have to impute test data\n",
        "test[cat_var]=imputer_mode.transform(test[cat_var])"
      ],
      "metadata": {
        "id": "4CyC5cPfwf1b"
      },
      "execution_count": null,
      "outputs": []
    },
    {
      "cell_type": "code",
      "source": [
        "X_train[cat_var].isnull().sum()"
      ],
      "metadata": {
        "id": "4rNPOuAvwov6"
      },
      "execution_count": null,
      "outputs": []
    },
    {
      "cell_type": "code",
      "source": [
        "test[cat_var].isnull().sum()"
      ],
      "metadata": {
        "id": "66QljvgyxGDk"
      },
      "execution_count": null,
      "outputs": []
    },
    {
      "cell_type": "code",
      "source": [
        ""
      ],
      "metadata": {
        "id": "Z1ZXCkMDxJjN"
      },
      "execution_count": null,
      "outputs": []
    },
    {
      "cell_type": "markdown",
      "source": [
        "* We have data in the numerical variable and categorical variable\n",
        "* And we have to impute values using sklearn \n",
        "* we use stratigies like mean, median,mode\n",
        "* But this strategies are apply all the varibale \n",
        "* Lets take a situation where we have 20 numerical variable and we want to apply mean on 5 variable meadian on 15 variable or it may be possible that we want to apply mode on another variable \n",
        "* So SimpleImputer can not do this task we should go for another technique"
      ],
      "metadata": {
        "id": "47G-YpZH58yT"
      }
    },
    {
      "cell_type": "markdown",
      "source": [
        "# Different Strategy for Different Variable using\n",
        "1. SimpleImputer\n",
        "2. Pipeline\n",
        "3. ColumnTransformer"
      ],
      "metadata": {
        "id": "j-F5sx4k7ZMF"
      }
    },
    {
      "cell_type": "markdown",
      "source": [
        "###Column Transformer is a sciket-learn class used to create and apply separate transformers for numerical and categorical data. \n",
        "\n",
        "###To create transformers we need to specify the transformer object and pass the list of transformations inside a tuple along with the column on which you want to apply the transformation.\n",
        "\n",
        "###(Name, Object, Columns)"
      ],
      "metadata": {
        "id": "HTri-ZoJrNnT"
      }
    },
    {
      "cell_type": "markdown",
      "source": [
        "##Machine Learning Pipelines\n",
        "###Machine learning pipelines are a mechanism that chains multiple steps together so that the output of each step is used as input to the next step.\n",
        "\n",
        "###It means that it performs a sequence of steps in which the output of the first transformer becomes the input for the next transformer. If you have studied a little bit about neural networks then you can visualize the pipeline workflow that output of 1 layer feed as input for next layer."
      ],
      "metadata": {
        "id": "OeI1TN0BtBiy"
      }
    },
    {
      "cell_type": "markdown",
      "source": [
        "![image.png](data:image/png;base64,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)"
      ],
      "metadata": {
        "id": "1tBr-gnCtQ0E"
      }
    },
    {
      "cell_type": "markdown",
      "source": [
        "###Suppose for example you are working on a Machine learning project which has a too messy dataset containing missing values, categorical variables so you will first handle these problems and then train the model. But using Pipeline, you can chain all these 3 steps in a single step, making the project workflow smooth and easier.\n",
        "\n",
        "###Pipelines make it easy to apply the same preprocessing to train and test data. If you have previously deployed any machine learning model without using pipelines to any cloud server then you can experience how much complexities it creates to handle new data coming from a server."
      ],
      "metadata": {
        "id": "hB9dhqgYtU2r"
      }
    },
    {
      "cell_type": "code",
      "source": [
        "import pandas as pd\n",
        "import numpy as np\n",
        "from sklearn.impute import SimpleImputer\n",
        "from sklearn.compose import ColumnTransformer\n",
        "from sklearn.pipeline import Pipeline\n",
        "import matplotlib.pyplot as plt\n",
        "import seaborn as sns"
      ],
      "metadata": {
        "id": "QwMfRVUD7YdD"
      },
      "execution_count": null,
      "outputs": []
    },
    {
      "cell_type": "code",
      "source": [
        "train=pd.read_csv('/content/drive/MyDrive/Colab Notebooks/DATA CLEANING/train.csv')\n",
        "test=pd.read_csv('/content/drive/MyDrive/Colab Notebooks/DATA CLEANING/test.csv')\n",
        "print(\"train shape\",train.shape)\n",
        "print(\"train shape\",test.shape)"
      ],
      "metadata": {
        "id": "Tdf3qBzV8Wq6"
      },
      "execution_count": null,
      "outputs": []
    },
    {
      "cell_type": "code",
      "source": [
        "X_train=train.drop(columns=\"SalePrice\",axis=1)# X_train consider as matrix\n",
        "y_train=train[\"SalePrice\"] # y_train consider as vector\n",
        "X_test=test.copy()\n",
        "print(\"X_train shape\",X_train.shape)\n",
        "print(\"y_train shape\",y_train.shape)\n",
        "print(\"X_test shape\",X_test.shape)"
      ],
      "metadata": {
        "id": "pvvXBno58q8L"
      },
      "execution_count": null,
      "outputs": []
    },
    {
      "cell_type": "markdown",
      "source": [
        "# Missing Value Imputation"
      ],
      "metadata": {
        "id": "Ne5ZB7fa9QEL"
      }
    },
    {
      "cell_type": "code",
      "source": [
        "# First check the missing value in X_train\n",
        "X_train_isnull=X_train.isnull().sum()\n",
        "X_train_isnull"
      ],
      "metadata": {
        "id": "m_996YGe9L40"
      },
      "execution_count": null,
      "outputs": []
    },
    {
      "cell_type": "markdown",
      "source": [
        "* Now Check Numeric variable in the X_train"
      ],
      "metadata": {
        "id": "Z5kELggc95yY"
      }
    },
    {
      "cell_type": "code",
      "source": [
        "# Now collect numeric variable\n",
        "num_var=X_train.select_dtypes(include=['int','float']).columns\n",
        "# Now collect those numeric columns which have missing values\n",
        "num_var_miss=[i for i in num_var if X_train_isnull[i]>0]\n",
        "num_var_miss"
      ],
      "metadata": {
        "id": "13tYCHfe92OW"
      },
      "execution_count": null,
      "outputs": []
    },
    {
      "cell_type": "markdown",
      "source": [
        "* Now check categorical variable having missing value"
      ],
      "metadata": {
        "id": "jMCAqSRD_wcV"
      }
    },
    {
      "cell_type": "code",
      "source": [
        "cat_var=X_train.select_dtypes(include=['object']).columns\n",
        "cat_var_miss=[i for i in cat_var if X_train_isnull[i]>0]\n",
        "cat_var_miss"
      ],
      "metadata": {
        "id": "HOB-QcLT-aFi"
      },
      "execution_count": null,
      "outputs": []
    },
    {
      "cell_type": "markdown",
      "source": [
        "### so now we have numeric variable 'LotFrontage', 'MasVnrArea', 'GarageYrBlt'\n",
        "* And you want to use **mean in 'LotFrontage'***\n",
        "\n",
        "* and median in ***'MasVnrArea', 'GarageYrBlt'***\n",
        "\n",
        "### in categorical variable \n",
        "* 'Alley',\n",
        "* 'MasVnrType',\n",
        "* 'BsmtQual',\n",
        "* 'BsmtCond',\n",
        "* 'BsmtExposure',\n",
        "* 'BsmtFinType1',\n",
        "* 'BsmtFinType2',\n",
        "* 'Electrical',\n",
        "* 'FireplaceQu'   \n",
        " **you want to use mode strategies**\n",
        "\n",
        "### And for columns\n",
        "* 'GarageType',\n",
        "* 'GarageFinish',\n",
        "* 'GarageQual',\n",
        "* 'GarageCond',\n",
        "* 'PoolQC',\n",
        "* 'Fence',\n",
        "* 'MiscFeature' \n",
        " \n",
        " **you want to impute any constant value**"
      ],
      "metadata": {
        "id": "uYVPrfQyAl_c"
      }
    },
    {
      "cell_type": "markdown",
      "source": [
        "### By using Simple Imputer we can not do this so we will go for pipeline"
      ],
      "metadata": {
        "id": "6oWTpQBABxTI"
      }
    },
    {
      "cell_type": "code",
      "source": [
        "num_var_mean=['LotFrontage']\n",
        "num_var_median=['MasVnrArea','GarageYrBlt']\n",
        "cat_var_mode=['Alley','MasVnrType','BsmtQual','BsmtCond','BsmtExposure',\n",
        "              'BsmtFinType1','BsmtFinType2','Electrical','FireplaceQu']\n",
        "cat_var_constant=['GarageType','GarageFinish','GarageQual','GarageCond','PoolQC','Fence','MiscFeature']"
      ],
      "metadata": {
        "id": "505LpiMoASyx"
      },
      "execution_count": null,
      "outputs": []
    },
    {
      "cell_type": "markdown",
      "source": [
        "### Now we have decided which strategies will apply on which variable\n",
        "### This is time for create Pipeline"
      ],
      "metadata": {
        "id": "JHwJnV7PGnf-"
      }
    },
    {
      "cell_type": "code",
      "source": [
        "# in pipeline you should take steps parameter it will be in list then tuple\n",
        "num_var_mean_imputer=Pipeline(steps=[(\"Imputer\",SimpleImputer(strategy='mean'))])\n",
        "num_var_median_imputer=Pipeline(steps=[(\"Imputer\",SimpleImputer(strategy='median'))])\n",
        "cat_var_mode_imputer=Pipeline(steps=[(\"Imputer\",SimpleImputer(strategy='most_frequent'))])\n",
        "cat_var_constant_imputer=Pipeline(steps=[(\"Imputer\",SimpleImputer(strategy='constant',fill_value='Missing'))])"
      ],
      "metadata": {
        "id": "MHqhZz_lGxkK"
      },
      "execution_count": null,
      "outputs": []
    },
    {
      "cell_type": "code",
      "source": [
        "Pipeline()"
      ],
      "metadata": {
        "id": "PxLBKRotG2um"
      },
      "execution_count": null,
      "outputs": []
    },
    {
      "cell_type": "markdown",
      "source": [
        "### we have decided the strategies but we did not mention on which variable we have to apply this.\n",
        "### So here the role of colomntranformer come into the picture"
      ],
      "metadata": {
        "id": "d1EeawtbJXWX"
      }
    },
    {
      "cell_type": "code",
      "source": [
        "# ColumnTransformer(name,strategy,column name) \n",
        "preprocess=ColumnTransformer(transformers=[(\"mean_imputer\",num_var_mean_imputer,num_var_mean),\n",
        "                                (\"median_imputer\",num_var_median_imputer,num_var_median),\n",
        "                                (\"mode_imputer\",cat_var_mode_imputer,cat_var_mode),\n",
        "                                (\"constant_imputer\",cat_var_constant_imputer,cat_var_constant)])"
      ],
      "metadata": {
        "id": "O-TM6R2ZInDL"
      },
      "execution_count": null,
      "outputs": []
    },
    {
      "cell_type": "markdown",
      "source": [
        "### Now we have to fit diffrent whic straegies and on which column \n",
        "### fit on X_train"
      ],
      "metadata": {
        "id": "g9M7dzYWL2Lk"
      }
    },
    {
      "cell_type": "code",
      "source": [
        "preprocess.fit(X_train)"
      ],
      "metadata": {
        "id": "TP2cpM3XLtMR"
      },
      "execution_count": null,
      "outputs": []
    },
    {
      "cell_type": "code",
      "source": [
        "preprocess.transform"
      ],
      "metadata": {
        "id": "1n8_jPoUMPxY"
      },
      "execution_count": null,
      "outputs": []
    },
    {
      "cell_type": "markdown",
      "source": [
        "### Now check which mean, median and mode value calculated by fit()"
      ],
      "metadata": {
        "id": "OqClVU32Mqgo"
      }
    },
    {
      "cell_type": "code",
      "source": [
        "# preprocess.named_transformers_\n",
        "# tell which estimator columns startegy we should take in ColumnTransformer\n",
        "# preprocess.named_transformers_[\"mean_imputer\"]\n",
        "#now tell the steps which we define in Pipeline\n",
        "# preprocess.named_transformers_[\"mean_imputer\"].named_steps[\"Imputer\"]\n",
        "# now check what is the statistics\n",
        "# preprocess.named_transformers_[\"mean_imputer\"].named_steps[\"Imputer\"].statistics_\n",
        "preprocess.named_transformers_[\"mean_imputer\"].named_steps[\"Imputer\"].statistics_"
      ],
      "metadata": {
        "id": "WkqF2EqzMmA2"
      },
      "execution_count": null,
      "outputs": []
    },
    {
      "cell_type": "markdown",
      "source": [
        "### so we get the first variable LotFrontage mean value\n",
        "### yu can check whether it is righ mean or not by pandas"
      ],
      "metadata": {
        "id": "rbJTeM-TOjkV"
      }
    },
    {
      "cell_type": "code",
      "source": [
        "train['LotFrontage'].mean()"
      ],
      "metadata": {
        "id": "rIyZ5-uPOaus"
      },
      "execution_count": null,
      "outputs": []
    },
    {
      "cell_type": "markdown",
      "source": [
        "* Now we have to transform all above startegies on main data frame\n",
        "* after applying transform () we will get clean data X_train\n",
        "* but we have to transfoem X_test data as well"
      ],
      "metadata": {
        "id": "8amYrPKlnokK"
      }
    },
    {
      "cell_type": "code",
      "source": [
        "X_train_clean=preprocess.transform(X_train)\n",
        "X_test_clean=preprocess.transform(X_test)"
      ],
      "metadata": {
        "id": "InhZA8oynW4s"
      },
      "execution_count": null,
      "outputs": []
    },
    {
      "cell_type": "markdown",
      "source": [
        "* check the value of X_train_clean\n",
        "* but it will give you 2 D nparray not dataframe\n",
        "* so you have to convert it into dataframe"
      ],
      "metadata": {
        "id": "GoGi5-OTocCg"
      }
    },
    {
      "cell_type": "code",
      "source": [
        "X_train_clean"
      ],
      "metadata": {
        "id": "yFtNF74WoZKz"
      },
      "execution_count": null,
      "outputs": []
    },
    {
      "cell_type": "code",
      "source": [
        "preprocess.transformers_ \n",
        "# observe output drop[0,1,2... what is this?]"
      ],
      "metadata": {
        "id": "rmgdM4ororUk"
      },
      "execution_count": null,
      "outputs": []
    },
    {
      "cell_type": "markdown",
      "source": [
        "* you know that X_train_clean is a 2D nparray so we dont want this so we have to convert it into dataframe\n",
        "* when we use pd.DataFrame() we have to give X_train_clean as parameter\n",
        "* And columns also but whwn you work on columns then you have to use right sequence \n",
        "* But where is the sequence?\n",
        "* so for this goto ColumnTransformer , what is sequence you give here you will use it like\n",
        "1. num_var_mean\n",
        "2. num_var_median\n",
        "3. cat_var_mode\n",
        "4. cat_var_constant\n",
        "* And concate them observe the code"
      ],
      "metadata": {
        "id": "-DhXKBOoo-XP"
      }
    },
    {
      "cell_type": "code",
      "source": [
        "X_train_miss_var=pd.DataFrame(X_train_clean,columns=num_var_mean+num_var_median+cat_var_mode+cat_var_constant)"
      ],
      "metadata": {
        "id": "4aTxAU6orRyh"
      },
      "execution_count": null,
      "outputs": []
    },
    {
      "cell_type": "code",
      "source": [
        "X_train_miss_var.head()"
      ],
      "metadata": {
        "id": "R_YnRgLkr0Pl"
      },
      "execution_count": null,
      "outputs": []
    },
    {
      "cell_type": "code",
      "source": [
        "X_train_miss_var.isnull().sum().sum()# check whether imputed or not"
      ],
      "metadata": {
        "id": "bB66gqFnr2Bp"
      },
      "execution_count": null,
      "outputs": []
    },
    {
      "cell_type": "markdown",
      "source": [
        "* Now check how many value imputed in X_train_miss_var dataset with train dataset"
      ],
      "metadata": {
        "id": "Hs_ywv0IsVid"
      }
    },
    {
      "cell_type": "code",
      "source": [
        "train['Alley'].value_counts() # original data set"
      ],
      "metadata": {
        "id": "KfeVWdQBsGH7"
      },
      "execution_count": null,
      "outputs": []
    },
    {
      "cell_type": "code",
      "source": [
        "X_train_miss_var['Alley'].value_counts()#after imputed dataset"
      ],
      "metadata": {
        "id": "Cnf10JWUslrC"
      },
      "execution_count": null,
      "outputs": []
    },
    {
      "cell_type": "markdown",
      "source": [
        "* we checked in only Alley variable you can check any varible which you imputed above"
      ],
      "metadata": {
        "id": "mvG4R_DZs-H2"
      }
    },
    {
      "cell_type": "markdown",
      "source": [
        "* so now you have cleaned the data set but in cleaned data set there are some variable which have missing value\n",
        "* our task is to join clean data set with the original dataset(tarin and test) and make an extended dataset\n",
        "* This is you Assignment"
      ],
      "metadata": {
        "id": "gpUYuMKCtS0g"
      }
    },
    {
      "cell_type": "code",
      "source": [
        "# no missing values variables index\n",
        "remainder_vars_index = [0,\n",
        "   1,\n",
        "   2,\n",
        "   4,\n",
        "   5,\n",
        "   7,\n",
        "   8,\n",
        "   9,\n",
        "   10,\n",
        "   11,\n",
        "   12,\n",
        "   13,\n",
        "   14,\n",
        "   15,\n",
        "   16,\n",
        "   17,\n",
        "   18,\n",
        "   19,\n",
        "   20,\n",
        "   21,\n",
        "   22,\n",
        "   23,\n",
        "   24,\n",
        "   27,\n",
        "   28,\n",
        "   29,\n",
        "   34,\n",
        "   36,\n",
        "   37,\n",
        "   38,\n",
        "   39,\n",
        "   40,\n",
        "   41,\n",
        "   43,\n",
        "   44,\n",
        "   45,\n",
        "   46,\n",
        "   47,\n",
        "   48,\n",
        "   49,\n",
        "   50,\n",
        "   51,\n",
        "   52,\n",
        "   53,\n",
        "   54,\n",
        "   55,\n",
        "   56,\n",
        "   61,\n",
        "   62,\n",
        "   65,\n",
        "   66,\n",
        "   67,\n",
        "   68,\n",
        "   69,\n",
        "   70,\n",
        "   71,\n",
        "   75,\n",
        "   76,\n",
        "   77,\n",
        "   78,\n",
        "   79]"
      ],
      "metadata": {
        "id": "Gpal_lHKsvTo"
      },
      "execution_count": null,
      "outputs": []
    },
    {
      "cell_type": "code",
      "source": [
        "# get no missing values variables name using there index\n",
        "remainder_vars = [X_train_isnull.keys()[var_index] for var_index in remainder_vars_index]\n",
        "remainder_vars"
      ],
      "metadata": {
        "id": "-XYfQLWVzSDk"
      },
      "execution_count": null,
      "outputs": []
    },
    {
      "cell_type": "code",
      "source": [
        "len(remainder_vars)"
      ],
      "metadata": {
        "id": "y-v9O7u6zeUE"
      },
      "execution_count": null,
      "outputs": []
    },
    {
      "cell_type": "code",
      "source": [
        "# concatinate X_train_clean_miss_var df and remainder_vars\n",
        "X_train =  pd.concat([X_train_miss_var,train[remainder_vars]], axis=1)"
      ],
      "metadata": {
        "id": "O9G7UsDsz7Bp"
      },
      "execution_count": null,
      "outputs": []
    },
    {
      "cell_type": "code",
      "source": [
        "X_train.shape"
      ],
      "metadata": {
        "id": "N6JWo90q0Heo"
      },
      "execution_count": null,
      "outputs": []
    },
    {
      "cell_type": "code",
      "source": [
        "X_train.isnull().sum().sum()"
      ],
      "metadata": {
        "id": "C3HSNhV30MdJ"
      },
      "execution_count": null,
      "outputs": []
    },
    {
      "cell_type": "code",
      "source": [
        "# Create test DataFrame with missing value imputed variables\n",
        "X_test_clean_miss_var = pd.DataFrame(X_test_clean, columns=num_var_mean+num_var_median+cat_var_mode+cat_var_constant)\n",
        "X_test_clean_miss_var.shape"
      ],
      "metadata": {
        "id": "WMuwxIyT0Ovc"
      },
      "execution_count": null,
      "outputs": []
    },
    {
      "cell_type": "code",
      "source": [
        "X_test_clean_miss_var.isnull().sum().sum()"
      ],
      "metadata": {
        "id": "x8zTycfi0Vx_"
      },
      "execution_count": null,
      "outputs": []
    },
    {
      "cell_type": "code",
      "source": [
        "# concatinate X_test_clean_miss_var df and remainder_vars\n",
        "X_test =  pd.concat([X_test_clean_miss_var,test[remainder_vars]], axis=1)\n",
        "X_test.shape"
      ],
      "metadata": {
        "id": "Fku6RnUY0kID"
      },
      "execution_count": null,
      "outputs": []
    },
    {
      "cell_type": "code",
      "source": [
        "X_test.isnull().sum().sum()"
      ],
      "metadata": {
        "id": "Gk_uINlt0qdC"
      },
      "execution_count": null,
      "outputs": []
    },
    {
      "cell_type": "code",
      "source": [
        "# 22 <= What is this, in X_test df still missing values as available but why \n",
        "#because we fill missing values in those columns which have missing value present in only X_train df\n",
        "# Basicaly we get df then  find missing values variables then split df into X_train, X_test, y_train, y_test\n",
        "# after that we fill missing value\n",
        "\n",
        "# so if you have train and test df seperatly then first thing you should concatnate then find the missing \n",
        "# values variables it's is great strategy and carry on\n",
        "# so you can try yourself"
      ],
      "metadata": {
        "id": "tz2RMTyG0xWf"
      },
      "execution_count": null,
      "outputs": []
    },
    {
      "cell_type": "code",
      "source": [
        "isnull_sum_test = X_test.isnull().sum()\n",
        "isnull_sum_test"
      ],
      "metadata": {
        "id": "4ZBboUS81JHA"
      },
      "execution_count": null,
      "outputs": []
    },
    {
      "cell_type": "code",
      "source": [
        "# finding the numerical variable which have mising value\n",
        "num_vars_test = X_test.select_dtypes(include=[\"int64\", \"float64\"]).columns\n",
        "num_vars_miss_test = [var for var in num_vars_test if isnull_sum_test[var]>0]\n",
        "num_vars_miss_test"
      ],
      "metadata": {
        "id": "Ic9SoHgC1Jj9"
      },
      "execution_count": null,
      "outputs": []
    },
    {
      "cell_type": "code",
      "source": [
        "# finding the categorical variable which have mising value\n",
        "cat_vars_test = X_test.select_dtypes(include=[\"O\"]).columns\n",
        "cat_vars_miss_test = [var for var in cat_vars_test if isnull_sum_test[var]>0]\n",
        "cat_vars_miss_test"
      ],
      "metadata": {
        "id": "qm4SgdGI1N0D"
      },
      "execution_count": null,
      "outputs": []
    },
    {
      "cell_type": "code",
      "source": [
        "# Hey it's time to do yourself"
      ],
      "metadata": {
        "id": "vNSXXOvm1SJV"
      },
      "execution_count": null,
      "outputs": []
    },
    {
      "cell_type": "markdown",
      "source": [
        "#Categorical Variable Encoding"
      ],
      "metadata": {
        "id": "vMIv6um4EGSC"
      }
    },
    {
      "cell_type": "markdown",
      "source": [
        "## Dummy Variables & One-Hot Encoding"
      ],
      "metadata": {
        "id": "9jIQo_hdLe37"
      }
    },
    {
      "cell_type": "code",
      "source": [
        "import pandas as pd\n",
        "import numpy as np\n",
        "import matplotlib.pyplot as plt\n",
        "import seaborn as sns"
      ],
      "metadata": {
        "id": "SH2h1Css1dYI"
      },
      "execution_count": null,
      "outputs": []
    },
    {
      "cell_type": "markdown",
      "source": [
        "## How to use kaggle dataset in colab"
      ],
      "metadata": {
        "id": "0peR0mq-IOAH"
      }
    },
    {
      "cell_type": "markdown",
      "source": [
        "### Fisrt go to ***kaggle.com***\n",
        "### then go to ***'My Account'***\n",
        "### scroll down and you will see ***API*** heading\n",
        "### Now click on *** create new API token***\n",
        "### so it will download you a json file of kaggle which is *** kaggle.json***\n",
        "### it has a user name which is your kaggle account name and a API key in dictionary form.\n",
        "### Now you have to upload this json file in the colab \n",
        "### then create an environment for this \n",
        "### import os\n",
        "### os.environ['KAGGLE_CONFIG_DIR'] and now set your json file path only don't use file name we need only the path means we need only the folder which contain kaggle.json file\n",
        "### os.environ['KAGGLE_CONFIG_DIR']='/content'\n",
        "### now goto your dataset in kaggle lets search for 'titanic'. and click on the desired one \n",
        "### then goto data tab and you will see a one specific command , copy that \n",
        "### and paste it in the colab for downloading which is like below and use ! sign before it\n",
        "### *** ! kaggle competitions download -c titanic\n",
        "### when you run this your all files will be downloaded in colab you can check and do your work\n",
        "## but some time dataset is in not csv it may be it is in zip file \n",
        "### for example search for heart disease UCI in kaggle but if you observe then you will not see any specific command so what to do?\n",
        "### ok you just click on three dots and click on copy API command"
      ],
      "metadata": {
        "id": "FnvD5-WDIeSq"
      }
    },
    {
      "cell_type": "markdown",
      "source": [
        "![image.png](data:image/png;base64,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)"
      ],
      "metadata": {
        "id": "BLVBdKn5Oe-G"
      }
    },
    {
      "cell_type": "markdown",
      "source": [
        "### and put that particular thing on your colab with ! sign like below\n",
        "### ***! kaggle datasets download -d cherngs/heart-disease-cleveland-uci***\n",
        "### and run it then you will get a zip file in colab you can check it\n",
        "### so it is a zip file so you have to unzip it by the use of below code\n",
        "### ***! unzip heart-disease-uci*** and you will get your desired csv file now\n",
        "### if you want to unzip and as well remove the zip file from the google then use this linux command\n",
        "## ! unzip \\.*zip && rm *.zip \n",
        "## All is done ."
      ],
      "metadata": {
        "id": "gAD6d7QjOq6I"
      }
    },
    {
      "cell_type": "code",
      "source": [
        "import os\n",
        "os.environ['KAGGLE_CONFIG_DIR']='/content/drive/MyDrive/Colab Notebooks/Kaggle json'"
      ],
      "metadata": {
        "id": "1dW_SLUOIDKm"
      },
      "execution_count": null,
      "outputs": []
    },
    {
      "cell_type": "code",
      "source": [
        "!kaggle datasets download -d jsphyg/tipping"
      ],
      "metadata": {
        "id": "LZPm60SWRPf9"
      },
      "execution_count": null,
      "outputs": []
    },
    {
      "cell_type": "code",
      "source": [
        "! unzip tipping"
      ],
      "metadata": {
        "id": "yPtcl-jGRhei"
      },
      "execution_count": null,
      "outputs": []
    },
    {
      "cell_type": "code",
      "source": [
        "df=pd.read_csv('/content/tips.csv')\n",
        "df.head()"
      ],
      "metadata": {
        "id": "W86KEnkeRsPr"
      },
      "execution_count": null,
      "outputs": []
    },
    {
      "cell_type": "markdown",
      "source": [
        "* we use mathemetical formula in machine learning for build a model\n",
        "* So we need only numeric data but in the dataset it may be there are some cotegorical data also\n",
        "* for example in our dataset(ENCODE_tips) we have 4 categorical variable so should we skip these variable from dataset?\n",
        "* No, because if we drop these column then result will be affected for example we know that male pay more than female and if we observe that many of us go to resturant on saturday or sunday and very less time on other days. so we can not drop them.\n",
        "* for this we have to convert the nominal data into numeric one . but we can not give male to 1 and female to 2 because mathmetically 2 is higher than 1. so what to do?\n",
        "* for such type of situation we create 2 columns one for male class and one for female calss.\n",
        "\n",
        "* so we have to make 2 duumies variable for the same we can say.\n",
        "* if there is male value is present then we will put 1 and male is not there female is there then in the male column we will put 0. same will be performed for the female column.\n",
        "\n",
        "* so for a particular class value is presnt then we will put 1 and not presnt then we put 0 so this method is called ONE HOT ENCODING. \n",
        "* NOTE--ONE HOT ENCODING always apply on NOMINAL CATEGORICAL VARIABLE.\n",
        "* Lets go for it"
      ],
      "metadata": {
        "id": "tMB66p_XMb8Q"
      }
    },
    {
      "cell_type": "code",
      "source": [
        "df.shape"
      ],
      "metadata": {
        "id": "Vy3sfxLEMK6P"
      },
      "execution_count": null,
      "outputs": []
    },
    {
      "cell_type": "code",
      "source": [
        "df.dtypes"
      ],
      "metadata": {
        "id": "q5iPUtpb6MBm"
      },
      "execution_count": null,
      "outputs": []
    },
    {
      "cell_type": "code",
      "source": [
        "dummy_df=pd.get_dummies(df)\n",
        "dummy_df(2)"
      ],
      "metadata": {
        "id": "mAhtgpGJQHy6"
      },
      "execution_count": null,
      "outputs": []
    },
    {
      "cell_type": "markdown",
      "source": [
        "* observe the data farme, now we have 13 columns\n",
        "* it made two new columns sex_female and sex_male \n",
        "* And it removed column 'sex'\n",
        "* ANd it did same for smoker,day, and time\n",
        "* this is called k dummy variables means it creates columns for classes present in categorical variable"
      ],
      "metadata": {
        "id": "z8vv2HbWQ21r"
      }
    },
    {
      "cell_type": "markdown",
      "source": [
        "* lets understand other parameters of get_dummy()\n",
        "* pd.get_dummies(\n",
        "    * data,\n",
        "    * prefix=None,\n",
        "    * prefix_sep='_',\n",
        "    * dummy_na=False,\n",
        "    * columns=None,\n",
        "    * sparse=False,\n",
        "    * drop_first=False,\n",
        "    * dtype=None,\n",
        "\n",
        "\n",
        "\n",
        "\n",
        "\n",
        "\n",
        ")"
      ],
      "metadata": {
        "id": "LzxA1BWjL9_g"
      }
    },
    {
      "cell_type": "code",
      "source": [
        "dummy_df=pd.get_dummies(df,drop_first=True)\n",
        "dummy_df"
      ],
      "metadata": {
        "id": "WeUshrBeQyG9"
      },
      "execution_count": null,
      "outputs": []
    },
    {
      "cell_type": "code",
      "source": [
        "dummy_df=pd.get_dummies(df,drop_first=True,prefix=\"tips\")\n",
        "dummy_df"
      ],
      "metadata": {
        "id": "L-5iEO2vNQtR"
      },
      "execution_count": null,
      "outputs": []
    },
    {
      "cell_type": "code",
      "source": [
        "dummy_df=pd.get_dummies(df,drop_first=True,prefix=\"tips\",prefix_sep=\"-->\")\n",
        "dummy_df"
      ],
      "metadata": {
        "id": "r8KvJZSNPS4S"
      },
      "execution_count": null,
      "outputs": []
    },
    {
      "cell_type": "code",
      "source": [
        "# dummy_na will create an extra column for missing value\n",
        "# if column has missing value than it have 1 otherwise 0\n",
        "# in our case there is no missing value so no need to use it\n",
        "# but for undersatnding purpose we are using it\n",
        "dummy_df=pd.get_dummies(df,drop_first=True,prefix=\"tips\",prefix_sep=\"-->\",dummy_na=True)\n",
        "dummy_df"
      ],
      "metadata": {
        "id": "ONumc5QrPSxd"
      },
      "execution_count": null,
      "outputs": []
    },
    {
      "cell_type": "code",
      "source": [
        "df.isnull().sum()"
      ],
      "metadata": {
        "id": "eFizCZJHRcTq"
      },
      "execution_count": null,
      "outputs": []
    },
    {
      "cell_type": "code",
      "source": [
        "# if you have idea which column should be use in one hot encoding\n",
        "# then you can use column parameter and put the columns name in list\n",
        "# for example we are taking only 2 columns\n",
        "dummy_df=pd.get_dummies(df,drop_first=True,prefix=\"tips\",prefix_sep=\"-->\",columns=['sex','time'])\n",
        "dummy_df"
      ],
      "metadata": {
        "id": "sycoQfF9PSs6"
      },
      "execution_count": null,
      "outputs": []
    },
    {
      "cell_type": "code",
      "source": [
        "# if you need sparse metrix then use sparse parameter otherwise leave it\n",
        "dummy_df=pd.get_dummies(df,drop_first=True,sparse=True)\n",
        "dummy_df"
      ],
      "metadata": {
        "id": "fOrt7cKnPSqM"
      },
      "execution_count": null,
      "outputs": []
    },
    {
      "cell_type": "code",
      "source": [
        "# if you need to change the datatype then use dtype parameter otherwise leave it\n",
        "dummy_df=pd.get_dummies(df,drop_first=True,dtype='int')\n",
        "dummy_df"
      ],
      "metadata": {
        "id": "WD66KBslPSeN"
      },
      "execution_count": null,
      "outputs": []
    },
    {
      "cell_type": "code",
      "source": [
        "dummy_df.dtypes"
      ],
      "metadata": {
        "id": "vOLrlCdCTI_f"
      },
      "execution_count": null,
      "outputs": []
    },
    {
      "cell_type": "markdown",
      "source": [
        "# One-Hot Encoding with Scikit-learn"
      ],
      "metadata": {
        "id": "rxArTdJVPRFl"
      }
    },
    {
      "cell_type": "code",
      "source": [
        "from sklearn.preprocessing import OneHotEncoder"
      ],
      "metadata": {
        "id": "7zPhiHXAPRmO"
      },
      "execution_count": null,
      "outputs": []
    },
    {
      "cell_type": "code",
      "source": [
        "oh_enc = OneHotEncoder(sparse=False,drop='first',handle_unknown='error')"
      ],
      "metadata": {
        "id": "sFJ29NvyThoE"
      },
      "execution_count": null,
      "outputs": []
    },
    {
      "cell_type": "code",
      "source": [
        "oh_enc_arr = oh_enc.fit_transform(df[['sex','smoker','day','time']])\n",
        "oh_enc_arr"
      ],
      "metadata": {
        "id": "igftHz6uTkh2"
      },
      "execution_count": null,
      "outputs": []
    },
    {
      "cell_type": "markdown",
      "source": [
        "## it will return us a numpy array so after some time you can convert it into dataframe"
      ],
      "metadata": {
        "id": "bAt1GgB27IOe"
      }
    },
    {
      "cell_type": "code",
      "source": [
        "dummy_df.keys()"
      ],
      "metadata": {
        "id": "e56eLQv6TqyK"
      },
      "execution_count": null,
      "outputs": []
    },
    {
      "cell_type": "code",
      "source": [
        "oh_enc_df = pd.DataFrame(oh_enc_arr, columns=['sex_Female', 'sex_Male', 'smoker_No',\n",
        "       'smoker_Yes', 'day_Fri', 'day_Sat', 'day_Sun', 'day_Thur',\n",
        "       'time_Dinner', 'time_Lunch'])\n",
        "oh_enc_df"
      ],
      "metadata": {
        "id": "X0RflOhJTuta"
      },
      "execution_count": null,
      "outputs": []
    },
    {
      "cell_type": "markdown",
      "source": [
        "# Types of Categorical Variable\n",
        "1. Ordinal\n",
        "2. Nominal"
      ],
      "metadata": {
        "id": "N0Lho9sFJFC3"
      }
    },
    {
      "cell_type": "markdown",
      "source": [
        "## ordinal Variable\n",
        "* Ordinal variable are categorical variable in which the categories can be meaningfully ordered\n",
        "* we can scale and measure ordinal variable.\n",
        "* when the ordinal variable convert into the number then it has mathematical value.\n",
        "* like Grade A,B,C,D,E,F\n",
        "* Quality Poor, Good ,Very Good, Excellent\n",
        "* Month Jan,Feb,Mar....."
      ],
      "metadata": {
        "id": "NFWoxG5TJVQl"
      }
    },
    {
      "cell_type": "markdown",
      "source": [
        "## Nominal Variable\n",
        "* Nominal variable can not be measure.\n",
        "* All label are equal so there is no order.\n",
        "* No mathematical value\n",
        "* like color-->Red, Green, Black ...\n",
        "* product-->laptop, Bag, Mouse,Mobile....\n",
        "* Language-->C,Python, Java...."
      ],
      "metadata": {
        "id": "PCRjhUSPKeo_"
      }
    },
    {
      "cell_type": "markdown",
      "source": [
        "# Label Encoding And Ordinal Encoding"
      ],
      "metadata": {
        "id": "y8n6_KvNLR_X"
      }
    },
    {
      "cell_type": "markdown",
      "source": [
        "* label Encoding apply on Nominal and ordinal categorical variables.\n",
        "![image.png](data:image/png;base64,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)"
      ],
      "metadata": {
        "id": "pleL6ngbLZYv"
      }
    },
    {
      "cell_type": "markdown",
      "source": [
        "* Ordinal Encoding Apply on Ordinal Categorical variable.\n",
        "* ![image.png](data:image/png;base64,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)\n"
      ],
      "metadata": {
        "id": "DytmS93yMxY7"
      }
    },
    {
      "cell_type": "code",
      "source": [
        "import pandas as pd \n",
        "from sklearn.preprocessing import LabelEncoder # you can also use OrdinalEncoder"
      ],
      "metadata": {
        "id": "oaA_cXhDT4G2"
      },
      "execution_count": null,
      "outputs": []
    },
    {
      "cell_type": "code",
      "source": [
        "pd.set_option(\"display.max_rows\",None)"
      ],
      "metadata": {
        "id": "XOnGVpFfO9qn"
      },
      "execution_count": null,
      "outputs": []
    },
    {
      "cell_type": "code",
      "source": [
        "df=pd.read_csv('/content/drive/MyDrive/Colab Notebooks/DATA CLEANING/ENCODE_tips.csv')\n",
        "df.head()"
      ],
      "metadata": {
        "id": "RDh8DiMnPDcG"
      },
      "execution_count": null,
      "outputs": []
    },
    {
      "cell_type": "code",
      "source": [
        "# here we are just understanding the label encoding\n",
        "df2=df[['day','time']]"
      ],
      "metadata": {
        "id": "CWjNZ0biPTQe"
      },
      "execution_count": null,
      "outputs": []
    },
    {
      "cell_type": "code",
      "source": [
        "le = LabelEncoder()"
      ],
      "metadata": {
        "id": "ykemusyCTCFV"
      },
      "execution_count": null,
      "outputs": []
    },
    {
      "cell_type": "code",
      "source": [
        "le.fit_transform(df2[\"day\"])\n",
        "# it will give us nparray"
      ],
      "metadata": {
        "id": "Cl_MmtNSTDKM"
      },
      "execution_count": null,
      "outputs": []
    },
    {
      "cell_type": "code",
      "source": [
        "df2[\"day_L_En\"]=le.fit_transform(df2[\"day\"])"
      ],
      "metadata": {
        "id": "gkeRKC_7TS-u"
      },
      "execution_count": null,
      "outputs": []
    },
    {
      "cell_type": "code",
      "source": [
        "df2[\"time_L_En\"]=le.fit_transform(df2[\"time\"])"
      ],
      "metadata": {
        "id": "MnXuIWtpUxj0"
      },
      "execution_count": null,
      "outputs": []
    },
    {
      "cell_type": "code",
      "source": [
        "df2.head()"
      ],
      "metadata": {
        "id": "ZuZksdwATquo"
      },
      "execution_count": null,
      "outputs": []
    },
    {
      "cell_type": "code",
      "source": [
        "df['day'].value_counts()"
      ],
      "metadata": {
        "id": "ttmOVfBgTvqN"
      },
      "execution_count": null,
      "outputs": []
    },
    {
      "cell_type": "code",
      "source": [
        "df2['day_L_En'].value_counts()"
      ],
      "metadata": {
        "id": "gHkKxqHRUh5j"
      },
      "execution_count": null,
      "outputs": []
    },
    {
      "cell_type": "code",
      "source": [
        "df['time'].value_counts()"
      ],
      "metadata": {
        "id": "O48MGapGUIJj"
      },
      "execution_count": null,
      "outputs": []
    },
    {
      "cell_type": "code",
      "source": [
        "df2['time_L_En'].value_counts()"
      ],
      "metadata": {
        "id": "-mRNmdMyUtPa"
      },
      "execution_count": null,
      "outputs": []
    },
    {
      "cell_type": "markdown",
      "source": [
        "# Order labeling"
      ],
      "metadata": {
        "id": "CgyxVBrwWyvx"
      }
    },
    {
      "cell_type": "code",
      "source": [
        "df=pd.read_csv('/content/drive/MyDrive/Colab Notebooks/DATA CLEANING/ENCODE_tips.csv')\n",
        "df.head()"
      ],
      "metadata": {
        "id": "x6a8bZtSYmxg"
      },
      "execution_count": null,
      "outputs": []
    },
    {
      "cell_type": "code",
      "source": [
        "df2=df[['day','time']]\n",
        "# here we are just understanding the label encoding\n",
        "le_ord=LabelEncoder()"
      ],
      "metadata": {
        "id": "PFkeQrJZYmVl"
      },
      "execution_count": null,
      "outputs": []
    },
    {
      "cell_type": "code",
      "source": [
        "order_Label1 = {\"Fri\":2,\"Thur\":1,\"Sat\":4,\"Sun\":3}\n",
        "order_Label2 = {\"Dinner\":2,\"Lunch\":1}"
      ],
      "metadata": {
        "id": "i2MolqlVUdam"
      },
      "execution_count": null,
      "outputs": []
    },
    {
      "cell_type": "code",
      "source": [
        "df2[\"day_Ord_En\"] = df2[\"day\"].map(order_Label1)\n",
        "df2[\"time_Ord_En\"] = df2[\"time\"].map(order_Label2)"
      ],
      "metadata": {
        "id": "9WsHp3RYXOW7"
      },
      "execution_count": null,
      "outputs": []
    },
    {
      "cell_type": "code",
      "source": [
        "df2"
      ],
      "metadata": {
        "id": "tC_n8_QtXZDW"
      },
      "execution_count": null,
      "outputs": []
    },
    {
      "cell_type": "code",
      "source": [
        ""
      ],
      "metadata": {
        "id": "iyMEl7F5XbEz"
      },
      "execution_count": null,
      "outputs": []
    },
    {
      "cell_type": "markdown",
      "source": [
        "# Project using pipeline"
      ],
      "metadata": {
        "id": "2W1nvg5quBxz"
      }
    },
    {
      "cell_type": "code",
      "source": [
        ""
      ],
      "metadata": {
        "id": "3CDRD8B0uFsG"
      },
      "execution_count": null,
      "outputs": []
    }
  ]
}